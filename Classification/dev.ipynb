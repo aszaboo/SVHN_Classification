{
 "cells": [
  {
   "cell_type": "code",
   "execution_count": 1,
   "metadata": {},
   "outputs": [],
   "source": [
    "# imports\n",
    "import os\n",
    "import numpy as np\n",
    "\n",
    "# pytorch\n",
    "import torch\n",
    "import torchvision\n",
    "import torch.nn as nn\n",
    "import torch.optim as optim\n",
    "from torch.utils.data import Dataset, DataLoader, TensorDataset\n",
    "from torchvision import transforms\n",
    "\n",
    "# libs for image processing\n",
    "from PIL import Image\n",
    "\n",
    "# dataset \n",
    "from datasets import load_dataset\n",
    "import pandas as pd\n",
    "\n",
    "# splitting training data\n",
    "from sklearn.model_selection import train_test_split\n",
    "\n",
    "# plotting\n",
    "import matplotlib.pyplot as plt\n",
    "from sklearn.metrics import confusion_matrix, precision_recall_fscore_support\n",
    "import seaborn as sns"
   ]
  },
  {
   "cell_type": "markdown",
   "metadata": {},
   "source": [
    "### Data Exploration"
   ]
  },
  {
   "cell_type": "code",
   "execution_count": 2,
   "metadata": {},
   "outputs": [],
   "source": [
    "# loading in dataset\n",
    "dataset = load_dataset(\"svhn\", \"cropped_digits\")"
   ]
  },
  {
   "cell_type": "code",
   "execution_count": 3,
   "metadata": {},
   "outputs": [],
   "source": [
    "#splitting train and test\n",
    "total_data = dataset['extra']\n",
    "\n",
    "#laoding into pandas\n",
    "total_df = pd.DataFrame.from_dict(total_data)"
   ]
  },
  {
   "cell_type": "code",
   "execution_count": 4,
   "metadata": {},
   "outputs": [
    {
     "data": {
      "text/plain": [
       "label\n",
       "1    90560\n",
       "2    74740\n",
       "3    60765\n",
       "5    53490\n",
       "4    50633\n",
       "0    45550\n",
       "7    43997\n",
       "6    41582\n",
       "8    35358\n",
       "9    34456\n",
       "Name: count, dtype: int64"
      ]
     },
     "execution_count": 4,
     "metadata": {},
     "output_type": "execute_result"
    }
   ],
   "source": [
    "# get total number of occurrences of each digit\n",
    "total_df['label'].value_counts()"
   ]
  },
  {
   "cell_type": "code",
   "execution_count": 5,
   "metadata": {},
   "outputs": [
    {
     "name": "stdout",
     "output_type": "stream",
     "text": [
      "Image: 0\n",
      "Width: 32\n",
      "Height: 32\n",
      "Image: 1\n",
      "Width: 32\n",
      "Height: 32\n",
      "Image: 2\n",
      "Width: 32\n",
      "Height: 32\n",
      "Image: 3\n",
      "Width: 32\n",
      "Height: 32\n",
      "Image: 4\n",
      "Width: 32\n",
      "Height: 32\n"
     ]
    }
   ],
   "source": [
    "def get_image_sizes(dataset):\n",
    "\n",
    "    for i in range(5):\n",
    "        # Get the size of the image\n",
    "        img = dataset[i]\n",
    "        width, height = img.size\n",
    "\n",
    "        print(f\"Image: {i}\")\n",
    "        print(f\"Width: {width}\")\n",
    "        print(f\"Height: {height}\")\n",
    "\n",
    "get_image_sizes(total_df['image'])"
   ]
  },
  {
   "cell_type": "markdown",
   "metadata": {},
   "source": [
    "#### Calculating Mean and Std to use w/ data normalization transform"
   ]
  },
  {
   "cell_type": "code",
   "execution_count": 6,
   "metadata": {},
   "outputs": [],
   "source": [
    "# separating features and labels\n",
    "X_total = total_df['image']\n",
    "y_total = total_df['label']"
   ]
  },
  {
   "cell_type": "code",
   "execution_count": 7,
   "metadata": {},
   "outputs": [
    {
     "name": "stdout",
     "output_type": "stream",
     "text": [
      "531131\n",
      "531131\n"
     ]
    }
   ],
   "source": [
    "# checking dataset length\n",
    "print(X_total.__len__())\n",
    "print(y_total.__len__())"
   ]
  },
  {
   "cell_type": "code",
   "execution_count": 8,
   "metadata": {},
   "outputs": [],
   "source": [
    "# defining transform and applying it to images\n",
    "transform = transforms.Compose([\n",
    "    transforms.ToTensor(),\n",
    "])\n",
    "\n",
    "# Apply transform to each image in X_total\n",
    "X_total_transformed = torch.stack([transform(img) for img in X_total])\n",
    "\n",
    "# Convert y_total to tensor\n",
    "y_total_transformed = torch.tensor(y_total.values)\n",
    "\n",
    "# Create the total dataset\n",
    "total_dataset = TensorDataset(X_total_transformed, y_total_transformed)"
   ]
  },
  {
   "cell_type": "code",
   "execution_count": 9,
   "metadata": {},
   "outputs": [
    {
     "name": "stdout",
     "output_type": "stream",
     "text": [
      "Computing mean and std...\n"
     ]
    }
   ],
   "source": [
    "def compute_mean_std(dataset, batch_size=32, num_workers=0):\n",
    "    \"\"\"Compute the mean and std value of dataset\"\"\"\n",
    "    data_loader = DataLoader(dataset, batch_size=batch_size, shuffle=True, num_workers=num_workers)\n",
    "\n",
    "    mean = torch.zeros(3)\n",
    "    std = torch.zeros(3)\n",
    "    n_samples = 0\n",
    "    print('Computing mean and std...')\n",
    "    for images, _ in data_loader:\n",
    "        batch_samples = images.size(0)\n",
    "        images = images.view(batch_samples, images.size(1), -1)\n",
    "        mean += images.mean(2).sum(0)\n",
    "        std += images.std(2).sum(0)\n",
    "        n_samples += batch_samples\n",
    "    mean /= n_samples\n",
    "    std /= n_samples\n",
    "    return mean, std\n",
    "\n",
    "computed_mean , computed_std = compute_mean_std(total_dataset)"
   ]
  },
  {
   "cell_type": "markdown",
   "metadata": {},
   "source": [
    "### Preparing Training, Validation and Testing Data"
   ]
  },
  {
   "cell_type": "code",
   "execution_count": 10,
   "metadata": {},
   "outputs": [],
   "source": [
    "# split dataset into train and test\n",
    "train_data = dataset['train']\n",
    "test_data = dataset['test']\n",
    "\n",
    "# laad dataset into pandas df\n",
    "train_df = pd.DataFrame.from_dict(train_data)\n",
    "test_df = pd.DataFrame.from_dict(test_data)"
   ]
  },
  {
   "cell_type": "code",
   "execution_count": 11,
   "metadata": {},
   "outputs": [],
   "source": [
    "# creating the total dataset\n",
    "train_dataset = TensorDataset(X_total_transformed, y_total_transformed)"
   ]
  },
  {
   "cell_type": "code",
   "execution_count": 12,
   "metadata": {},
   "outputs": [],
   "source": [
    "# split train data\n",
    "X = train_df['image']\n",
    "y = train_df['label']\n",
    "\n",
    "#splitting trining set into train and val sets\n",
    "X_train, X_val, y_train, y_val = train_test_split(X, y, test_size=0.2, random_state=42)\n",
    "\n",
    "# testing data \n",
    "X_test = test_df['image']\n",
    "y_test = test_df['label']"
   ]
  },
  {
   "cell_type": "code",
   "execution_count": 13,
   "metadata": {},
   "outputs": [],
   "source": [
    "transform = transforms.Compose([\n",
    "    transforms.ToTensor(),\n",
    "    transforms.Normalize(computed_std, computed_mean)\n",
    "])"
   ]
  },
  {
   "cell_type": "code",
   "execution_count": 14,
   "metadata": {},
   "outputs": [],
   "source": [
    "# Apply transform to each image in X_train\n",
    "X_train_transformed = torch.stack([transform(img) for img in X_train])\n",
    "y_train_transformed = torch.tensor(y_train.values)\n",
    "\n",
    "\n",
    "# Apply transform to each image in X_val\n",
    "X_val_transformed = torch.stack([transform(img) for img in X_val])\n",
    "y_val_transformed = torch.tensor(y_val.values)\n",
    "\n",
    "# Apply transform to each image in X_test\n",
    "X_test_transformed = torch.stack([transform(img) for img in X_test])\n",
    "y_test_transformed = torch.tensor(y_test.values)"
   ]
  },
  {
   "cell_type": "code",
   "execution_count": 15,
   "metadata": {},
   "outputs": [
    {
     "name": "stdout",
     "output_type": "stream",
     "text": [
      "Value count for train_df: label\n",
      "1    13861\n",
      "2    10585\n",
      "3     8497\n",
      "4     7458\n",
      "5     6882\n",
      "6     5727\n",
      "7     5595\n",
      "8     5045\n",
      "0     4948\n",
      "9     4659\n",
      "Name: count, dtype: int64\n",
      "Value count for test_df: label\n",
      "1    5099\n",
      "2    4149\n",
      "3    2882\n",
      "4    2523\n",
      "5    2384\n",
      "7    2019\n",
      "6    1977\n",
      "0    1744\n",
      "8    1660\n",
      "9    1595\n",
      "Name: count, dtype: int64\n"
     ]
    }
   ],
   "source": [
    "# getting number of occurrences of each digit\n",
    "print(f\"Value count for train_df: {train_df['label'].value_counts()}\")\n",
    "print(f\"Value count for test_df: {test_df['label'].value_counts()}\")"
   ]
  },
  {
   "cell_type": "markdown",
   "metadata": {},
   "source": [
    "#### Creating augmented images to balance out dataset"
   ]
  },
  {
   "cell_type": "code",
   "execution_count": 16,
   "metadata": {},
   "outputs": [],
   "source": [
    "# Define transformation functions\n",
    "# Transformation for classes 0 and 8\n",
    "transform_0_8 = transforms.Compose([\n",
    "    transforms.RandomRotation(degrees=(-20, 20)),\n",
    "    transforms.RandomHorizontalFlip(),\n",
    "    transforms.RandomVerticalFlip(),\n",
    "    transforms.ColorJitter(brightness=0.2, contrast=0.2, saturation=0.2),\n",
    "    transforms.ToTensor(),  # Converts to Tensor and normalizes to [0, 1]\n",
    "])\n",
    "\n",
    "# Transformation for all other classes (non flipping horizontal and vertical)\n",
    "transform_other = transforms.Compose([\n",
    "    transforms.RandomRotation(degrees=(-20, 20)),\n",
    "    transforms.ColorJitter(brightness=0.2, contrast=0.2, saturation=0.2),\n",
    "    transforms.ToTensor(),\n",
    "])\n",
    "\n",
    "# Function to generate augmented samples\n",
    "def generate_augmented_samples(images, labels, target_class, target_count):\n",
    "    augmented_images = []\n",
    "    augmented_labels = []\n",
    "\n",
    "    # Choose the appropriate transformation based on the target class\n",
    "    transform = transform_0_8 if target_class in [0, 8] else transform_other\n",
    "    \n",
    "    for img, label in zip(images, labels):\n",
    "        if label == target_class and len(augmented_images) < target_count:\n",
    "            # Apply the chosen transformation\n",
    "            aug_img = transform(img)\n",
    "            augmented_images.append(aug_img)\n",
    "            augmented_labels.append(label)\n",
    "\n",
    "    return torch.stack(augmented_images), torch.tensor(augmented_labels)"
   ]
  },
  {
   "cell_type": "code",
   "execution_count": 17,
   "metadata": {},
   "outputs": [],
   "source": [
    "# Generate augmented samples for the underrepresented class \n",
    "aug_X_train_0, aug_y_train_0 = generate_augmented_samples(X_train, y_train, 0, 8500)\n",
    "aug_X_train_2, aug_y_train_2 = generate_augmented_samples(X_train, y_train, 2, 3000)\n",
    "aug_X_train_3, aug_y_train_3 = generate_augmented_samples(X_train, y_train, 3, 5000)\n",
    "aug_X_train_4, aug_y_train_4 = generate_augmented_samples(X_train, y_train, 4, 6000)\n",
    "aug_X_train_5, aug_y_train_5 = generate_augmented_samples(X_train, y_train, 5, 6700)\n",
    "aug_X_train_6, aug_y_train_6 = generate_augmented_samples(X_train, y_train, 6, 8000)\n",
    "aug_X_train_7, aug_y_train_7 = generate_augmented_samples(X_train, y_train, 7, 8500)\n",
    "aug_X_train_8, aug_y_train_8 = generate_augmented_samples(X_train, y_train, 8, 9000)\n",
    "aug_X_train_9, aug_y_train_9 = generate_augmented_samples(X_train, y_train, 9, 9000)\n",
    "\n",
    "# Combine the original and augmented samples\n",
    "X_train_transformed = torch.cat([X_train_transformed, aug_X_train_0, aug_X_train_2, aug_X_train_3, aug_X_train_4, aug_X_train_5, aug_X_train_6, aug_X_train_7, aug_X_train_8, aug_X_train_9], dim=0)\n",
    "y_train_transformed = torch.cat([y_train_transformed, aug_y_train_0, aug_y_train_2, aug_y_train_3, aug_y_train_4, aug_y_train_5, aug_y_train_6, aug_y_train_7, aug_y_train_8, aug_y_train_9], dim=0)"
   ]
  },
  {
   "cell_type": "code",
   "execution_count": 18,
   "metadata": {},
   "outputs": [
    {
     "name": "stdout",
     "output_type": "stream",
     "text": [
      "98918\n",
      "98918\n"
     ]
    }
   ],
   "source": [
    "# checking new len\n",
    "print(X_train_transformed.__len__())\n",
    "print(y_train_transformed.__len__())"
   ]
  },
  {
   "cell_type": "code",
   "execution_count": 19,
   "metadata": {},
   "outputs": [],
   "source": [
    "# Create the train dataset\n",
    "train_dataset = TensorDataset(X_train_transformed, y_train_transformed)\n",
    "# Create the val dataset\n",
    "val_dataset = TensorDataset(X_val_transformed, y_val_transformed)\n",
    "# Create the test dataset\n",
    "test_dataset = TensorDataset(X_test_transformed, y_test_transformed)"
   ]
  },
  {
   "cell_type": "code",
   "execution_count": 20,
   "metadata": {},
   "outputs": [],
   "source": [
    "# create dataloader objs\n",
    "train_loader = DataLoader(dataset=train_dataset, batch_size=32, shuffle=True)\n",
    "val_loader = DataLoader(dataset=val_dataset, batch_size=32, shuffle=True)\n",
    "test_loader = DataLoader(dataset=test_dataset, batch_size=32, shuffle=True)"
   ]
  },
  {
   "cell_type": "markdown",
   "metadata": {},
   "source": [
    "### Overview of CNN Class"
   ]
  },
  {
   "cell_type": "markdown",
   "metadata": {},
   "source": [
    "1. **Convolutional Layers**:\n",
    "   - For the first convolutional layer (`self.conv1`), I chose `in_channels=3` because the input images are expected to have 3 color channels (RGB). I set `out_channels=32` to learn a reasonable number of feature maps in the initial layer, capturing low-level features like edges and textures.\n",
    "   - I opted for a `kernel_size=5` in the first layer to capture larger patterns and spatial relationships, which is common practice for early layers in CNNs. The `padding=2` ensures that the spatial dimensions are preserved after convolution, which helps maintain important spatial information.\n",
    "   - In the second convolutional layer (`self.conv2`), I increased the number of `out_channels` to 64 to learn more complex and higher-level features. I chose a smaller `kernel_size=3` to capture finer details and patterns, as deeper layers typically focus on more granular features.\n",
    "   - The `padding=1` in the second layer also helps preserve spatial dimensions, which is crucial for maintaining important spatial information throughout the network.\n",
    "\n",
    "2. **Batch Normalization Layers**:\n",
    "   - I included batch normalization layers (`self.bn1` and `self.bn2`) after each convolutional layer to improve the training stability and convergence of the network. Batch normalization helps mitigate the internal covariate shift problem, allowing for higher learning rates and better generalization.\n",
    "\n",
    "3. **Activation Functions**:\n",
    "   - I chose to use the Leaky ReLU activation function (`self.relu1` and `self.relu2`) with a `negative_slope=0.01` for both convolutional layers. Leaky ReLU addresses the \"dying ReLU\" problem by introducing a small negative slope for negative inputs, preventing neurons from becoming inactive during training.\n",
    "   - The value of `negative_slope=0.01` is a common choice that has shown good performance in various applications, allowing a small non-linearity for negative inputs while still maintaining the benefits of ReLU's sparsity.\n",
    "\n",
    "4. **Pooling Layers**:\n",
    "   - I incorporated max pooling layers (`self.pool1` and `self.pool2`) with `kernel_size=2` and `stride=2` to downsample the spatial dimensions of the feature maps after each convolutional layer.\n",
    "\n",
    "5. **Fully Connected Layers**:\n",
    "   - For the first fully connected layer (`self.fc1`), I dynamically calculated the number of input features (`in_features`) using the `to_linear` helper function. This ensures that the flattened output from the convolutional layers is correctly reshaped for the fully connected layer, regardless of the input image size or the convolutional layer configurations.\n",
    "   - I chose `out_features=256` for the first fully connected layer to provide a reasonable number of units for learning higher-level features and representations from the convolutional layers.\n",
    "   - For the final fully connected layer (`self.fc2`), I set `out_features=10` as the task is a digit classification problem with 10 output classes. This layer produces the final class predictions.\n",
    "\n",
    "6. **Batch Normalization and Dropout**:\n",
    "   - I included a batch normalization layer (`self.bn3`) after the first fully connected layer to further improve training stability and convergence for the fully connected part of the network.\n",
    "   - To prevent overfitting, I added a dropout layer (`self.dropout1`) with a drop probability of `p=0.5` after the first fully connected layer.\n",
    "\n",
    "7. **Activation Function for Fully Connected Layers**:\n",
    "   - Consistent with the convolutional layers, I chose to use the Leaky ReLU activation function (`self.relu3`) with `negative_slope=0.01` for the fully connected layers as well. This non-linearity helps the network learn complex representations and mappings from the input data to the output classes."
   ]
  },
  {
   "cell_type": "code",
   "execution_count": 21,
   "metadata": {},
   "outputs": [],
   "source": [
    "class CNN(nn.Module):\n",
    "    def __init__(self):\n",
    "        super(CNN, self).__init__()\n",
    "        \n",
    "        self.conv1 = nn.Conv2d(in_channels=3, out_channels=32, kernel_size=5, padding=2)\n",
    "        self.bn1 = nn.BatchNorm2d(32)\n",
    "        self.relu1 = nn.LeakyReLU(negative_slope=0.01)\n",
    "        self.pool1 = nn.MaxPool2d(kernel_size=2, stride=2)\n",
    "        \n",
    "        self.conv2 = nn.Conv2d(in_channels=32, out_channels=64, kernel_size=3, padding=1)\n",
    "        self.bn2 = nn.BatchNorm2d(64)\n",
    "        self.relu2 = nn.LeakyReLU(negative_slope=0.01)\n",
    "        self.pool2 = nn.MaxPool2d(kernel_size=2, stride=2)\n",
    "        \n",
    "        # Calculate the correct number of features dynamically\n",
    "        self.fc1 = nn.Linear(in_features=self.to_linear(3, 32, 32), out_features=256)\n",
    "        self.bn3 = nn.BatchNorm1d(256)\n",
    "        self.relu3 = nn.LeakyReLU(negative_slope=0.01)\n",
    "        self.dropout1 = nn.Dropout(p=0.5)\n",
    "        \n",
    "        self.fc2 = nn.Linear(in_features=256, out_features=10)\n",
    "\n",
    "    def to_linear(self, channels, height, width):\n",
    "        # Helper to automatically calculate the input features for the first fully connected layer\n",
    "        x = torch.randn((1, channels, height, width))\n",
    "        x = self.conv1(x)\n",
    "        x = self.pool1(x)\n",
    "        x = self.conv2(x)\n",
    "        x = self.pool2(x)\n",
    "        return int(x.numel() / x.shape[0])\n",
    "    \n",
    "    def forward(self, x):\n",
    "        x = self.conv1(x)\n",
    "        x = self.bn1(x)\n",
    "        x = self.relu1(x)\n",
    "        x = self.pool1(x)\n",
    "        \n",
    "        x = self.conv2(x)\n",
    "        x = self.bn2(x)\n",
    "        x = self.relu2(x)\n",
    "        x = self.pool2(x)\n",
    "        \n",
    "        x = x.view(x.size(0), -1)  # Flatten\n",
    "        x = self.fc1(x)\n",
    "        x = self.bn3(x)\n",
    "        x = self.relu3(x)\n",
    "        x = self.dropout1(x)\n",
    "        \n",
    "        x = self.fc2(x)\n",
    "        \n",
    "        return x"
   ]
  },
  {
   "cell_type": "markdown",
   "metadata": {},
   "source": [
    "### Cuda Setup"
   ]
  },
  {
   "cell_type": "code",
   "execution_count": 22,
   "metadata": {},
   "outputs": [
    {
     "data": {
      "text/plain": [
       "True"
      ]
     },
     "execution_count": 22,
     "metadata": {},
     "output_type": "execute_result"
    }
   ],
   "source": [
    "# Check Cuda is available\n",
    "torch.cuda.is_available()"
   ]
  },
  {
   "cell_type": "code",
   "execution_count": 23,
   "metadata": {},
   "outputs": [],
   "source": [
    "device = torch.device('cuda:0')"
   ]
  },
  {
   "cell_type": "markdown",
   "metadata": {},
   "source": [
    "### Model Training and Eval"
   ]
  },
  {
   "cell_type": "markdown",
   "metadata": {},
   "source": [
    "#### Creating Plotting Fxns"
   ]
  },
  {
   "cell_type": "code",
   "execution_count": 24,
   "metadata": {},
   "outputs": [],
   "source": [
    "def plot_metrics(train_losses, train_accuracies, val_losses, val_accuracies):\n",
    "    epochs = range(1, len(train_losses) + 1)\n",
    "    \n",
    "    plt.figure(figsize=(14, 7))\n",
    "\n",
    "    plt.subplot(1, 2, 1)\n",
    "    plt.plot(epochs, train_losses, 'bo-', label='Training Loss')\n",
    "    plt.plot(epochs, val_losses, 'ro-', label='Validation Loss')\n",
    "    plt.title('Training and Validation Loss')\n",
    "    plt.xlabel('Epoch')\n",
    "    plt.ylabel('Loss')\n",
    "    plt.legend()\n",
    "\n",
    "    plt.subplot(1, 2, 2)\n",
    "    plt.plot(epochs, train_accuracies, 'bo-', label='Training Accuracy')\n",
    "    plt.plot(epochs, val_accuracies, 'ro-', label='Validation Accuracy')\n",
    "    plt.title('Training and Validation Accuracy')\n",
    "    plt.xlabel('Epoch')\n",
    "    plt.ylabel('Accuracy')\n",
    "    plt.legend()\n",
    "\n",
    "    plt.tight_layout()\n",
    "    plt.show()"
   ]
  },
  {
   "cell_type": "code",
   "execution_count": 25,
   "metadata": {},
   "outputs": [],
   "source": [
    "def plot_confusion_matrix(model, data_loader, device, classes):\n",
    "    model.eval()\n",
    "    all_preds = []\n",
    "    all_targets = []\n",
    "    with torch.no_grad():\n",
    "        for X, y in data_loader:\n",
    "            X, y = X.to(device), y.to(device)\n",
    "            outputs = model(X)\n",
    "            preds = outputs.argmax(dim=1)\n",
    "            all_preds.extend(preds.cpu().numpy())\n",
    "            all_targets.extend(y.cpu().numpy())\n",
    "\n",
    "    cm = confusion_matrix(all_targets, all_preds)\n",
    "    plt.figure(figsize=(10, 10))\n",
    "    sns.heatmap(cm, annot=True, fmt=\"d\", cmap='Blues', xticklabels=classes, yticklabels=classes)\n",
    "    plt.xlabel('Predicted')\n",
    "    plt.ylabel('True')\n",
    "    plt.title('Confusion Matrix')\n",
    "    plt.show()\n"
   ]
  },
  {
   "cell_type": "markdown",
   "metadata": {},
   "source": [
    "#### Training the model"
   ]
  },
  {
   "cell_type": "code",
   "execution_count": 26,
   "metadata": {},
   "outputs": [],
   "source": [
    "# creating early stopping class to stop model training after val accuracy stops decreasing and save model params\n",
    "\n",
    "class EarlyStopping:\n",
    "    def __init__(self, patience=5, verbose=False, delta=0, path='checkpoint.pt'):\n",
    "        self.patience = patience\n",
    "        self.verbose = verbose\n",
    "        self.counter = 0\n",
    "        self.best_score = None\n",
    "        self.early_stop = False\n",
    "        self.val_acc_max = 0\n",
    "        self.delta = delta\n",
    "        self.path = path\n",
    "\n",
    "    def __call__(self, val_acc, model):\n",
    "        if self.best_score is None:\n",
    "            self.best_score = val_acc\n",
    "            self.save_checkpoint(val_acc, model)\n",
    "        elif val_acc < self.best_score + self.delta:\n",
    "            self.counter += 1\n",
    "            if self.verbose:\n",
    "                print(f'EarlyStopping counter: {self.counter} out of {self.patience}')\n",
    "            if self.counter >= self.patience:\n",
    "                self.early_stop = True\n",
    "        else:\n",
    "            self.best_score = val_acc\n",
    "            self.save_checkpoint(val_acc, model)\n",
    "            self.counter = 0\n",
    "\n",
    "    def save_checkpoint(self, val_acc, model):\n",
    "        if self.verbose:\n",
    "            print(f'Validation accuracy increased ({self.val_acc_max:.4f} --> {val_acc:.4f}). Saving model ...')\n",
    "        torch.save(model.state_dict(), self.path)\n",
    "        self.val_acc_max = val_acc"
   ]
  },
  {
   "cell_type": "code",
   "execution_count": 27,
   "metadata": {},
   "outputs": [],
   "source": [
    "def train(model, optimizer, loss_fn, train_loader, val_loader, epochs, device, checkpoint_dir='./checkpoints'):\n",
    "    # Initialize lists to store losses and accuracies for each epoch\n",
    "    train_losses = []\n",
    "    train_accuracies = []\n",
    "    val_losses = []\n",
    "    val_accuracies = []\n",
    "    \n",
    "    # Initialize EarlyStopping\n",
    "    early_stopping = EarlyStopping(patience=10, verbose=True, path=os.path.join(checkpoint_dir, 'best_model.pt'))\n",
    "\n",
    "    # Create the checkpoint directory if it doesn't exist\n",
    "    os.makedirs(checkpoint_dir, exist_ok=True)\n",
    "\n",
    "    for epoch in range(epochs):\n",
    "        # Training phase\n",
    "        model.train()\n",
    "        train_loss = 0\n",
    "        train_acc = 0\n",
    "        for X, y in train_loader:\n",
    "            X, y = X.to(device), y.to(device)\n",
    "            y_pred = model(X)\n",
    "            loss = loss_fn(y_pred, y)\n",
    "            optimizer.zero_grad()\n",
    "            loss.backward()\n",
    "            optimizer.step()\n",
    "            train_loss += loss.item() * X.size(0)\n",
    "            train_acc += (y_pred.argmax(1) == y).sum().item()\n",
    "\n",
    "        train_loss /= len(train_loader.dataset)\n",
    "        train_acc /= len(train_loader.dataset)\n",
    "        train_losses.append(train_loss)\n",
    "        train_accuracies.append(train_acc)\n",
    "\n",
    "        # Validation phase\n",
    "        model.eval()\n",
    "        val_loss = 0\n",
    "        val_acc = 0\n",
    "        with torch.no_grad():\n",
    "            for X, y in val_loader:\n",
    "                X, y = X.to(device), y.to(device)\n",
    "                y_pred = model(X)\n",
    "                loss = loss_fn(y_pred, y)\n",
    "                val_loss += loss.item() * X.size(0)\n",
    "                val_acc += (y_pred.argmax(1) == y).sum().item()\n",
    "\n",
    "        val_loss /= len(val_loader.dataset)\n",
    "        val_acc /= len(val_loader.dataset)\n",
    "        val_losses.append(val_loss)\n",
    "        val_accuracies.append(val_acc)\n",
    "\n",
    "        print(f\"Epoch [{epoch+1}/{epochs}], Train Loss: {train_loss:.4f}, Train Acc: {train_acc:.4f}, Val Loss: {val_loss:.4f}, Val Acc: {val_acc:.4f}\")\n",
    "\n",
    "        # Save the best model based on validation accuracy\n",
    "        early_stopping(val_acc, model)\n",
    "        if early_stopping.early_stop:\n",
    "            print(\"Early stopping\")\n",
    "            break\n",
    "\n",
    "    # Load the best model back\n",
    "    model.load_state_dict(torch.load(os.path.join(checkpoint_dir, 'best_model.pt')))\n",
    "    return train_losses, train_accuracies, val_losses, val_accuracies"
   ]
  },
  {
   "cell_type": "markdown",
   "metadata": {},
   "source": [
    "#### Model Evaluation"
   ]
  },
  {
   "cell_type": "code",
   "execution_count": 28,
   "metadata": {},
   "outputs": [],
   "source": [
    "def evaluate_model(model, test_loader, device):\n",
    "    model.eval()\n",
    "    test_loss = 0\n",
    "    correct = 0\n",
    "    with torch.no_grad():\n",
    "        for X, y in test_loader:\n",
    "            X, y = X.to(device), y.to(device)\n",
    "            y_pred = model(X)\n",
    "            test_loss += torch.nn.functional.cross_entropy(y_pred, y, reduction='sum').item()  # sum up batch loss\n",
    "            correct += (y_pred.argmax(1) == y).sum().item()\n",
    "\n",
    "    test_loss /= len(test_loader.dataset)\n",
    "    test_accuracy = correct / len(test_loader.dataset)\n",
    "    print(f'Test Loss: {test_loss:.4f}, Test Accuracy: {test_accuracy:.4f}')\n",
    "    return test_loss, test_accuracy"
   ]
  },
  {
   "cell_type": "code",
   "execution_count": 29,
   "metadata": {},
   "outputs": [],
   "source": [
    "def evaluate_model_f1(model, test_loader, device):\n",
    "    # Ensure the model is in evaluation mode\n",
    "    model.eval()\n",
    "    \n",
    "    # Lists to store true and predicted labels\n",
    "    true_labels = []\n",
    "    pred_labels = []\n",
    "    \n",
    "    # Disable gradient calculation for efficiency and to reduce memory usage\n",
    "    with torch.no_grad():\n",
    "        for data, target in test_loader:\n",
    "            # Move data and target to the device the model is on\n",
    "            data, target = data.to(device), target.to(device)\n",
    "            \n",
    "            # Get the model output\n",
    "            outputs = model(data)\n",
    "            \n",
    "            # Convert output probabilities to predicted class\n",
    "            _, preds = torch.max(outputs, 1)\n",
    "            \n",
    "            # Extend the lists with the true and predicted labels\n",
    "            true_labels.extend(target.view(-1).cpu().numpy())\n",
    "            pred_labels.extend(preds.cpu().numpy())\n",
    "    \n",
    "    # Calculate precision, recall, and F1 score\n",
    "    precision, recall, f1, _ = precision_recall_fscore_support(true_labels, pred_labels, average='weighted')\n",
    "    \n",
    "    # Return the metrics\n",
    "    return precision, recall, f1"
   ]
  },
  {
   "cell_type": "markdown",
   "metadata": {},
   "source": [
    "#### Training Model"
   ]
  },
  {
   "cell_type": "code",
   "execution_count": 30,
   "metadata": {},
   "outputs": [
    {
     "data": {
      "text/plain": [
       "CNN(\n",
       "  (conv1): Conv2d(3, 32, kernel_size=(5, 5), stride=(1, 1), padding=(2, 2))\n",
       "  (bn1): BatchNorm2d(32, eps=1e-05, momentum=0.1, affine=True, track_running_stats=True)\n",
       "  (relu1): LeakyReLU(negative_slope=0.01)\n",
       "  (pool1): MaxPool2d(kernel_size=2, stride=2, padding=0, dilation=1, ceil_mode=False)\n",
       "  (conv2): Conv2d(32, 64, kernel_size=(3, 3), stride=(1, 1), padding=(1, 1))\n",
       "  (bn2): BatchNorm2d(64, eps=1e-05, momentum=0.1, affine=True, track_running_stats=True)\n",
       "  (relu2): LeakyReLU(negative_slope=0.01)\n",
       "  (pool2): MaxPool2d(kernel_size=2, stride=2, padding=0, dilation=1, ceil_mode=False)\n",
       "  (fc1): Linear(in_features=4096, out_features=256, bias=True)\n",
       "  (bn3): BatchNorm1d(256, eps=1e-05, momentum=0.1, affine=True, track_running_stats=True)\n",
       "  (relu3): LeakyReLU(negative_slope=0.01)\n",
       "  (dropout1): Dropout(p=0.5, inplace=False)\n",
       "  (fc2): Linear(in_features=256, out_features=10, bias=True)\n",
       ")"
      ]
     },
     "execution_count": 30,
     "metadata": {},
     "output_type": "execute_result"
    }
   ],
   "source": [
    "# init model and send to GPU\n",
    "model = CNN()\n",
    "model.to(device)"
   ]
  },
  {
   "cell_type": "code",
   "execution_count": 31,
   "metadata": {},
   "outputs": [],
   "source": [
    "epochs = 1000\n",
    "criterion = nn.CrossEntropyLoss()\n",
    "optimizer = optim.Adam(model.parameters(), lr=0.001)\n",
    "classes = ['0', '1', '2', '3', '4', '5', '6', '7', '8', '9']"
   ]
  },
  {
   "cell_type": "code",
   "execution_count": 32,
   "metadata": {},
   "outputs": [
    {
     "name": "stdout",
     "output_type": "stream",
     "text": [
      "Epoch [1/1000], Train Loss: 0.7731, Train Acc: 0.7529, Val Loss: 0.4170, Val Acc: 0.8752\n",
      "Validation accuracy increased (0.0000 --> 0.8752). Saving model ...\n",
      "Epoch [2/1000], Train Loss: 0.5192, Train Acc: 0.8381, Val Loss: 0.3328, Val Acc: 0.9014\n",
      "Validation accuracy increased (0.8752 --> 0.9014). Saving model ...\n",
      "Epoch [3/1000], Train Loss: 0.4358, Train Acc: 0.8634, Val Loss: 0.3126, Val Acc: 0.9094\n",
      "Validation accuracy increased (0.9014 --> 0.9094). Saving model ...\n",
      "Epoch [4/1000], Train Loss: 0.3882, Train Acc: 0.8784, Val Loss: 0.3251, Val Acc: 0.9039\n",
      "EarlyStopping counter: 1 out of 10\n",
      "Epoch [5/1000], Train Loss: 0.3543, Train Acc: 0.8885, Val Loss: 0.3001, Val Acc: 0.9149\n",
      "Validation accuracy increased (0.9094 --> 0.9149). Saving model ...\n",
      "Epoch [6/1000], Train Loss: 0.3220, Train Acc: 0.8988, Val Loss: 0.2818, Val Acc: 0.9193\n",
      "Validation accuracy increased (0.9149 --> 0.9193). Saving model ...\n",
      "Epoch [7/1000], Train Loss: 0.2996, Train Acc: 0.9056, Val Loss: 0.2829, Val Acc: 0.9214\n",
      "Validation accuracy increased (0.9193 --> 0.9214). Saving model ...\n",
      "Epoch [8/1000], Train Loss: 0.2809, Train Acc: 0.9111, Val Loss: 0.2858, Val Acc: 0.9213\n",
      "EarlyStopping counter: 1 out of 10\n",
      "Epoch [9/1000], Train Loss: 0.2600, Train Acc: 0.9174, Val Loss: 0.2919, Val Acc: 0.9201\n",
      "EarlyStopping counter: 2 out of 10\n",
      "Epoch [10/1000], Train Loss: 0.2454, Train Acc: 0.9210, Val Loss: 0.2835, Val Acc: 0.9229\n",
      "Validation accuracy increased (0.9214 --> 0.9229). Saving model ...\n",
      "Epoch [11/1000], Train Loss: 0.2329, Train Acc: 0.9247, Val Loss: 0.2855, Val Acc: 0.9249\n",
      "Validation accuracy increased (0.9229 --> 0.9249). Saving model ...\n",
      "Epoch [12/1000], Train Loss: 0.2230, Train Acc: 0.9275, Val Loss: 0.2928, Val Acc: 0.9207\n",
      "EarlyStopping counter: 1 out of 10\n",
      "Epoch [13/1000], Train Loss: 0.2120, Train Acc: 0.9308, Val Loss: 0.3155, Val Acc: 0.9221\n",
      "EarlyStopping counter: 2 out of 10\n",
      "Epoch [14/1000], Train Loss: 0.2022, Train Acc: 0.9335, Val Loss: 0.3054, Val Acc: 0.9232\n",
      "EarlyStopping counter: 3 out of 10\n",
      "Epoch [15/1000], Train Loss: 0.1947, Train Acc: 0.9364, Val Loss: 0.3077, Val Acc: 0.9205\n",
      "EarlyStopping counter: 4 out of 10\n",
      "Epoch [16/1000], Train Loss: 0.1867, Train Acc: 0.9385, Val Loss: 0.3068, Val Acc: 0.9202\n",
      "EarlyStopping counter: 5 out of 10\n",
      "Epoch [17/1000], Train Loss: 0.1761, Train Acc: 0.9421, Val Loss: 0.3129, Val Acc: 0.9232\n",
      "EarlyStopping counter: 6 out of 10\n",
      "Epoch [18/1000], Train Loss: 0.1735, Train Acc: 0.9417, Val Loss: 0.3198, Val Acc: 0.9271\n",
      "Validation accuracy increased (0.9249 --> 0.9271). Saving model ...\n",
      "Epoch [19/1000], Train Loss: 0.1678, Train Acc: 0.9439, Val Loss: 0.3260, Val Acc: 0.9234\n",
      "EarlyStopping counter: 1 out of 10\n",
      "Epoch [20/1000], Train Loss: 0.1609, Train Acc: 0.9458, Val Loss: 0.3262, Val Acc: 0.9236\n",
      "EarlyStopping counter: 2 out of 10\n",
      "Epoch [21/1000], Train Loss: 0.1568, Train Acc: 0.9476, Val Loss: 0.2974, Val Acc: 0.9245\n",
      "EarlyStopping counter: 3 out of 10\n",
      "Epoch [22/1000], Train Loss: 0.1522, Train Acc: 0.9489, Val Loss: 0.3224, Val Acc: 0.9234\n",
      "EarlyStopping counter: 4 out of 10\n",
      "Epoch [23/1000], Train Loss: 0.1477, Train Acc: 0.9494, Val Loss: 0.3331, Val Acc: 0.9253\n",
      "EarlyStopping counter: 5 out of 10\n",
      "Epoch [24/1000], Train Loss: 0.1448, Train Acc: 0.9505, Val Loss: 0.3061, Val Acc: 0.9228\n",
      "EarlyStopping counter: 6 out of 10\n",
      "Epoch [25/1000], Train Loss: 0.1382, Train Acc: 0.9538, Val Loss: 0.3523, Val Acc: 0.9266\n",
      "EarlyStopping counter: 7 out of 10\n",
      "Epoch [26/1000], Train Loss: 0.1349, Train Acc: 0.9544, Val Loss: 0.3433, Val Acc: 0.9249\n",
      "EarlyStopping counter: 8 out of 10\n",
      "Epoch [27/1000], Train Loss: 0.1346, Train Acc: 0.9549, Val Loss: 0.3375, Val Acc: 0.9261\n",
      "EarlyStopping counter: 9 out of 10\n",
      "Epoch [28/1000], Train Loss: 0.1317, Train Acc: 0.9554, Val Loss: 0.3453, Val Acc: 0.9255\n",
      "EarlyStopping counter: 10 out of 10\n",
      "Early stopping\n"
     ]
    }
   ],
   "source": [
    "train_losses, train_accuracies, val_losses, val_accuracies = train(model, optimizer, criterion, train_loader, val_loader, epochs, device)"
   ]
  },
  {
   "cell_type": "markdown",
   "metadata": {},
   "source": [
    "#### Eval Model"
   ]
  },
  {
   "cell_type": "code",
   "execution_count": 33,
   "metadata": {},
   "outputs": [
    {
     "name": "stdout",
     "output_type": "stream",
     "text": [
      "Test Loss: 0.3603, Test Accuracy: 0.9194\n"
     ]
    }
   ],
   "source": [
    "test_loss, test_accuracy = evaluate_model(model, test_loader, device)"
   ]
  },
  {
   "cell_type": "code",
   "execution_count": 34,
   "metadata": {},
   "outputs": [
    {
     "data": {
      "image/png": "[encoded data removed]",
      "text/plain": [
       "<Figure size 1400x700 with 2 Axes>"
      ]
     },
     "metadata": {},
     "output_type": "display_data"
    }
   ],
   "source": [
    "plot_metrics(train_losses, train_accuracies, val_losses, val_accuracies)"
   ]
  },
  {
   "cell_type": "code",
   "execution_count": 35,
   "metadata": {},
   "outputs": [
    {
     "data": {
      "image/png": "[encoded data removed]",
      "text/plain": [
       "<Figure size 1000x1000 with 2 Axes>"
      ]
     },
     "metadata": {},
     "output_type": "display_data"
    }
   ],
   "source": [
    "plot_confusion_matrix(model, test_loader, device, classes)"
   ]
  },
  {
   "cell_type": "code",
   "execution_count": 36,
   "metadata": {},
   "outputs": [
    {
     "name": "stdout",
     "output_type": "stream",
     "text": [
      "Precision: 0.9198\n",
      "Recall: 0.9194\n",
      "F1 Score: 0.9193\n"
     ]
    }
   ],
   "source": [
    "precision, recall, f1 = evaluate_model_f1(model, test_loader, device)\n",
    "print(f\"Precision: {precision:.4f}\")\n",
    "print(f\"Recall: {recall:.4f}\")\n",
    "print(f\"F1 Score: {f1:.4f}\")"
   ]
  }
 ],
 "metadata": {
  "kernelspec": {
   "display_name": "PyTorch",
   "language": "python",
   "name": "python3"
  },
  "language_info": {
   "codemirror_mode": {
    "name": "ipython",
    "version": 3
   },
   "file_extension": ".py",
   "mimetype": "text/x-python",
   "name": "python",
   "nbconvert_exporter": "python",
   "pygments_lexer": "ipython3",
   "version": "3.11.9"
  }
 },
 "nbformat": 4,
 "nbformat_minor": 2
}
